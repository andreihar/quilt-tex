{
 "cells": [
  {
   "cell_type": "markdown",
   "metadata": {
    "colab_type": "text",
    "id": "f4d1S6dzNQE7"
   },
   "source": [
    "# Texture synthesis"
   ]
  },
  {
   "cell_type": "code",
   "execution_count": null,
   "metadata": {},
   "outputs": [],
   "source": [
    "import numpy as np\n",
    "import math\n",
    "from skimage import io, util, color, img_as_ubyte\n",
    "import heapq"
   ]
  },
  {
   "cell_type": "code",
   "execution_count": null,
   "metadata": {},
   "outputs": [],
   "source": [
    "### Method 1\n",
    "def randomPatch(texture, patchSize):\n",
    "    h, w = texture.shape[:2]\n",
    "    i = np.random.randint(h - patchSize)\n",
    "    j = np.random.randint(w - patchSize)\n",
    "    return texture[i:i+patchSize, j:j+patchSize]\n",
    "\n",
    "def method1(texture, patchSize):\n",
    "    texture = util.img_as_float(texture)\n",
    "    h, w = texture.shape[:2]\n",
    "\n",
    "    if len(texture.shape) == 2:\n",
    "        texture = np.stack([texture]*3, axis=-1)\n",
    "\n",
    "    patchH = math.ceil((5 * h) / patchSize)\n",
    "    patchW = math.ceil((5 * w) / patchSize)\n",
    "\n",
    "    output = np.zeros((patchH * patchSize, patchW * patchSize, texture.shape[2]))\n",
    "\n",
    "    for i in range(patchH):\n",
    "        for j in range(patchW):\n",
    "            y = i * patchSize\n",
    "            x = j * patchSize\n",
    "            patch = randomPatch(texture, patchSize)\n",
    "            output[y:y+patchSize, x:x+patchSize] = patch\n",
    "    return output[:5*h, :5*w]"
   ]
  },
  {
   "cell_type": "code",
   "execution_count": null,
   "metadata": {},
   "outputs": [],
   "source": [
    "### Method 2\n",
    "def ssd(patch, patchSize, overlap, output, x, y):\n",
    "    return (np.sum((patch[:, :overlap] - output[y:y+patchSize, x:x+overlap])**2) if x > 0 else 0) + \\\n",
    "           (np.sum((patch[:overlap, :] - output[y:y+overlap, x:x+patchSize])**2) if y > 0 else 0) - \\\n",
    "           (np.sum((patch[:overlap, :overlap] - output[y:y+overlap, x:x+overlap])**2) if x > 0 and y > 0 else 0) \n",
    "\n",
    "def bestPatch(texture, patchSize, overlap, output, x, y):\n",
    "    h, w = texture.shape[:2]\n",
    "    errors = np.array([[ssd(texture[i:i+patchSize, j:j+patchSize], patchSize, overlap, output, x, y) for j in range(w - patchSize)] for i in range(h - patchSize)])\n",
    "    i, j = np.unravel_index(np.argmin(errors), errors.shape)\n",
    "    return texture[i:i+patchSize, j:j+patchSize]\n",
    "\n",
    "def method2(texture, patchSize, overlapSize):\n",
    "    texture = util.img_as_float(texture)\n",
    "    h, w = texture.shape[:2]\n",
    "\n",
    "    patchH = math.ceil((5 * h - patchSize) / (patchSize - overlapSize)) + 1\n",
    "    patchW = math.ceil((5 * w - patchSize) / (patchSize - overlapSize)) + 1\n",
    "\n",
    "    if len(texture.shape) == 2:\n",
    "        texture = np.stack([texture]*3, axis=-1)\n",
    "\n",
    "    output = np.zeros(((patchH * patchSize) - (patchH - 1) * overlapSize, (patchW * patchSize) - (patchW - 1) * overlapSize, texture.shape[2]))\n",
    "\n",
    "    for i in range(patchH):\n",
    "        for j in range(patchW):\n",
    "            y = i * (patchSize - overlapSize)\n",
    "            x = j * (patchSize - overlapSize)\n",
    "\n",
    "            if i == 0 and j == 0:\n",
    "                patch = randomPatch(texture, patchSize)\n",
    "            else:\n",
    "                patch = bestPatch(texture, patchSize, overlapSize, output, x, y)\n",
    "            output[y:y+patchSize, x:x+patchSize] = patch\n",
    "    return output[:5*h, :5*w]"
   ]
  },
  {
   "cell_type": "code",
   "execution_count": null,
   "metadata": {},
   "outputs": [],
   "source": [
    "### Method 3\n",
    "def cutPatch(patch, overlapSize, output, x, y):\n",
    "    def path(errors):\n",
    "        h, w = errors.shape\n",
    "        queue = [(error, [i]) for i,error in enumerate(errors[0])]\n",
    "        heapq.heapify(queue)\n",
    "        visited = set()\n",
    "        while queue:\n",
    "            error, path = heapq.heappop(queue)\n",
    "            depth = len(path)\n",
    "            index = path[-1]\n",
    "            if depth == h:\n",
    "                return path\n",
    "            for delta in -1, 0, 1:\n",
    "                next = index + delta\n",
    "                if 0 <= next < w:\n",
    "                    if (depth, next) not in visited:\n",
    "                        heapq.heappush(queue, (error + errors[depth, next], path + [next]))\n",
    "                        visited.add((depth, next))\n",
    "\n",
    "    patch = patch.copy()\n",
    "    dy, dx = patch.shape[:2]\n",
    "    cut = np.zeros_like(patch, dtype=bool)\n",
    "    if x > 0:\n",
    "        for i, j in enumerate(path(np.sum((patch[:,:overlapSize]-output[y:y+dy,x:x+overlapSize])**2, axis=2))):\n",
    "            cut[i, :j] = True\n",
    "    if y > 0:\n",
    "        for j, i in enumerate(path(np.sum((patch[:overlapSize,:]-output[y:y+overlapSize,x:x+dx])**2, axis=2).T)):\n",
    "            cut[:i, j] = True\n",
    "\n",
    "    np.copyto(patch, output[y:y+dy, x:x+dx], where=cut)\n",
    "    return patch\n",
    "\n",
    "def method3(texture, patchSize, overlapSize):\n",
    "    texture = util.img_as_float(texture)\n",
    "    h, w = texture.shape[:2]\n",
    "\n",
    "    patchH = math.ceil((5 * h - patchSize) / (patchSize - overlapSize)) + 1\n",
    "    patchW = math.ceil((5 * w - patchSize) / (patchSize - overlapSize)) + 1\n",
    "\n",
    "    if len(texture.shape) == 2:\n",
    "        texture = np.stack([texture]*3, axis=-1)\n",
    "\n",
    "    output = np.zeros(((patchH * patchSize) - (patchH - 1) * overlapSize, (patchW * patchSize) - (patchW - 1) * overlapSize, texture.shape[2]))\n",
    "\n",
    "    for i in range(patchH):\n",
    "        for j in range(patchW):\n",
    "            y = i * (patchSize - overlapSize)\n",
    "            x = j * (patchSize - overlapSize)\n",
    "\n",
    "            if i == 0 and j == 0:\n",
    "                patch = randomPatch(texture, patchSize)\n",
    "            else:\n",
    "                patch = bestPatch(texture, patchSize, overlapSize, output, x, y)\n",
    "                patch = cutPatch(patch, overlapSize, output, x, y)\n",
    "            output[y:y+patchSize, x:x+patchSize] = patch\n",
    "    return output[:5*h, :5*w]"
   ]
  },
  {
   "cell_type": "code",
   "execution_count": null,
   "metadata": {},
   "outputs": [],
   "source": [
    "def save_image(output, filename):\n",
    "    io.imshow(output)\n",
    "    io.show()\n",
    "    if len(output.shape) == 3:\n",
    "        io.imsave(filename, img_as_ubyte(output[:,:,:3]))\n",
    "    else:\n",
    "        io.imsave(filename, img_as_ubyte(output))"
   ]
  },
  {
   "cell_type": "code",
   "execution_count": null,
   "metadata": {
    "colab": {
     "base_uri": "https://localhost:8080/",
     "height": 1000
    },
    "colab_type": "code",
    "id": "3ZB2krTIDvro",
    "outputId": "835fb6dc-ef83-4156-c166-4a9367172163"
   },
   "outputs": [],
   "source": [
    "dataDir = 'data/textures/';\n",
    "outDir = 'results_transfer/';\n",
    "\n",
    "patchSize = 40\n",
    "overlapErr = 7\n",
    "\n",
    "fileName = 'toast.png'\n",
    "texture = io.imread(dataDir + fileName)\n",
    "\n",
    "save_image(method1(texture, patchSize), outDir + fileName.split('.')[0] + \"_1.jpg\")\n",
    "save_image(method2(texture, patchSize, overlapErr), outDir + fileName.split('.')[0] + \"_2.jpg\")\n",
    "save_image(method3(texture, patchSize, overlapErr), outDir + fileName.split('.')[0] + \"_3.jpg\")"
   ]
  },
  {
   "cell_type": "markdown",
   "metadata": {
    "colab_type": "text",
    "id": "q4FSgMWTNVwA"
   },
   "source": [
    "# Texture transfer"
   ]
  },
  {
   "cell_type": "code",
   "execution_count": null,
   "metadata": {
    "colab": {
     "base_uri": "https://localhost:8080/",
     "height": 555
    },
    "colab_type": "code",
    "id": "jW2kDEJYvMov",
    "outputId": "8811e171-4a55-4e68-8f0b-eb81082d751f"
   },
   "outputs": [],
   "source": [
    "def corrOver(texture, corrTex, corrTar, patchSize, overlap, output, x, y, alpha=0.1):\n",
    "    h, w = texture.shape[:2]\n",
    "    errors = np.zeros((h - patchSize, w - patchSize))\n",
    "    corrTarP = corrTar[y:y+patchSize, x:x+patchSize]\n",
    "    di, dj = corrTarP.shape\n",
    "    for i in range(h - patchSize):\n",
    "        for j in range(w - patchSize):\n",
    "            errors[i, j] = alpha * (np.sum(ssd(texture[i:i+di, j:j+dj], patchSize, overlap, output, x, y))) + (1 - alpha) * np.sum((corrTex[i:i+di, j:j+dj] - corrTarP)**2)\n",
    "    i, j = np.unravel_index(np.argmin(errors), errors.shape)\n",
    "    return texture[i:i+di, j:j+dj]\n",
    "\n",
    "def transfer(texture, target, patchSize, overlap, alpha):\n",
    "    if texture.shape[2] == 4:\n",
    "        texture = color.rgba2rgb(texture)\n",
    "    if target.shape[2] == 4:\n",
    "        target = color.rgba2rgb(target)\n",
    "    corrTex = color.rgb2gray(texture)\n",
    "    corrTar  = color.rgb2gray(target)\n",
    "    texture = util.img_as_float(texture)[:,:,:3]\n",
    "    target = util.img_as_float(target)[:,:,:3]\n",
    "    h, w = target.shape[:2]\n",
    "    output = np.zeros_like(target)\n",
    "    for i in range((math.ceil((h - patchSize) / (patchSize - overlap)) + 1 or 1)):\n",
    "        for j in range((math.ceil((w - patchSize) / (patchSize - overlap)) + 1 or 1)):\n",
    "            y = i * (patchSize - overlap)\n",
    "            x = j * (patchSize - overlap)\n",
    "            if i == 0 and j == 0:\n",
    "                patch = corrOver(texture, corrTex, corrTar, patchSize, overlap, output, x, y, alpha)\n",
    "            else:\n",
    "                patch = corrOver(texture, corrTex, corrTar, patchSize, overlap, output, x, y, alpha)\n",
    "                patch = cutPatch(patch, overlap, output, x, y)\n",
    "            output[y:y+patchSize, x:x+patchSize] = patch\n",
    "    return output"
   ]
  },
  {
   "cell_type": "code",
   "execution_count": null,
   "metadata": {
    "colab": {
     "base_uri": "https://localhost:8080/",
     "height": 348
    },
    "colab_type": "code",
    "id": "5utTtATVUwje",
    "outputId": "15a5e228-9146-4a62-ed6f-84a9f5fc6e05"
   },
   "outputs": [],
   "source": [
    "textDir = 'data/textures/';\n",
    "imgDir = 'data/images/'\n",
    "outDir = 'results_transfer/';\n",
    "\n",
    "patchSize = 40\n",
    "overlapErr = 7\n",
    "alpha = 0.3\n",
    "\n",
    "imageFile = 'keane.jpg'\n",
    "texture = 'toast.png'\n",
    "\n",
    "fileName = texture\n",
    "texture = io.imread(textDir + fileName)\n",
    "image = io.imread(imgDir + imageFile)\n",
    "    \n",
    "output = transfer(texture, image, patchSize, overlapErr, alpha)\n",
    "save_image(output, outDir + fileName.split('.')[0] + \"_\" + imageFile.split('.')[0] + \".jpg\")"
   ]
  }
 ],
 "metadata": {
  "colab": {
   "collapsed_sections": [],
   "name": "Final Project COS429",
   "provenance": [],
   "toc_visible": true
  },
  "kernelspec": {
   "display_name": "Python 3",
   "language": "python",
   "name": "python3"
  },
  "language_info": {
   "codemirror_mode": {
    "name": "ipython",
    "version": 3
   },
   "file_extension": ".py",
   "mimetype": "text/x-python",
   "name": "python",
   "nbconvert_exporter": "python",
   "pygments_lexer": "ipython3",
   "version": "3.8.8"
  }
 },
 "nbformat": 4,
 "nbformat_minor": 1
}
